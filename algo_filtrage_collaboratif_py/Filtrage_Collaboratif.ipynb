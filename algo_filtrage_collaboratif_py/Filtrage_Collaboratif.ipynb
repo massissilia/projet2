{
 "cells": [
  {
   "cell_type": "code",
   "execution_count": 1,
   "metadata": {},
   "outputs": [],
   "source": [
    "#conda install -c conda-forge scikit-surprise : surprise package\n",
    "#https://surprise.readthedocs.io/en/stable/getting_started.html\n",
    "import numpy as np\n",
    "import pandas as pd\n",
    "import surprise\n",
    "from surprise import Dataset\n",
    "from surprise import accuracy\n",
    "from surprise.model_selection import train_test_split\n",
    "from surprise.model_selection import GridSearchCV"
   ]
  },
  {
   "cell_type": "code",
   "execution_count": 2,
   "metadata": {},
   "outputs": [
    {
     "data": {
      "text/html": [
       "<div>\n",
       "<style scoped>\n",
       "    .dataframe tbody tr th:only-of-type {\n",
       "        vertical-align: middle;\n",
       "    }\n",
       "\n",
       "    .dataframe tbody tr th {\n",
       "        vertical-align: top;\n",
       "    }\n",
       "\n",
       "    .dataframe thead th {\n",
       "        text-align: right;\n",
       "    }\n",
       "</style>\n",
       "<table border=\"1\" class=\"dataframe\">\n",
       "  <thead>\n",
       "    <tr style=\"text-align: right;\">\n",
       "      <th></th>\n",
       "      <th>uid</th>\n",
       "      <th>iid</th>\n",
       "      <th>rating</th>\n",
       "    </tr>\n",
       "  </thead>\n",
       "  <tbody>\n",
       "    <tr>\n",
       "      <th>0</th>\n",
       "      <td>x1</td>\n",
       "      <td>1</td>\n",
       "      <td>2.0</td>\n",
       "    </tr>\n",
       "    <tr>\n",
       "      <th>1</th>\n",
       "      <td>x1</td>\n",
       "      <td>2</td>\n",
       "      <td>4.0</td>\n",
       "    </tr>\n",
       "    <tr>\n",
       "      <th>2</th>\n",
       "      <td>x1</td>\n",
       "      <td>3</td>\n",
       "      <td>3.5</td>\n",
       "    </tr>\n",
       "    <tr>\n",
       "      <th>3</th>\n",
       "      <td>x2</td>\n",
       "      <td>4</td>\n",
       "      <td>3.0</td>\n",
       "    </tr>\n",
       "    <tr>\n",
       "      <th>4</th>\n",
       "      <td>x3</td>\n",
       "      <td>5</td>\n",
       "      <td>4.0</td>\n",
       "    </tr>\n",
       "    <tr>\n",
       "      <th>5</th>\n",
       "      <td>x3</td>\n",
       "      <td>6</td>\n",
       "      <td>1.0</td>\n",
       "    </tr>\n",
       "    <tr>\n",
       "      <th>6</th>\n",
       "      <td>x4</td>\n",
       "      <td>1</td>\n",
       "      <td>2.0</td>\n",
       "    </tr>\n",
       "    <tr>\n",
       "      <th>7</th>\n",
       "      <td>x5</td>\n",
       "      <td>3</td>\n",
       "      <td>1.0</td>\n",
       "    </tr>\n",
       "    <tr>\n",
       "      <th>8</th>\n",
       "      <td>x1</td>\n",
       "      <td>5</td>\n",
       "      <td>0.5</td>\n",
       "    </tr>\n",
       "  </tbody>\n",
       "</table>\n",
       "</div>"
      ],
      "text/plain": [
       "  uid  iid  rating\n",
       "0  x1    1     2.0\n",
       "1  x1    2     4.0\n",
       "2  x1    3     3.5\n",
       "3  x2    4     3.0\n",
       "4  x3    5     4.0\n",
       "5  x3    6     1.0\n",
       "6  x4    1     2.0\n",
       "7  x5    3     1.0\n",
       "8  x1    5     0.5"
      ]
     },
     "execution_count": 2,
     "metadata": {},
     "output_type": "execute_result"
    }
   ],
   "source": [
    "#import data\n",
    "dataset = pd.read_excel(\"Donnees_Algo_Filtrage_Colla.xlsx\")\n",
    "dataset #3columns (users, products, order)"
   ]
  },
  {
   "cell_type": "code",
   "execution_count": 3,
   "metadata": {},
   "outputs": [],
   "source": [
    "#define a Reader object for Surprise to be able to parse the file\n",
    "reader=surprise.Reader(rating_scale=(0.5,4.))\n",
    "data=surprise.Dataset.load_from_df(dataset,reader)"
   ]
  },
  {
   "cell_type": "code",
   "execution_count": 4,
   "metadata": {},
   "outputs": [
    {
     "name": "stdout",
     "output_type": "stream",
     "text": [
      "RMSE: 1.7474\n"
     ]
    },
    {
     "data": {
      "text/plain": [
       "1.7474358118917825"
      ]
     },
     "execution_count": 4,
     "metadata": {},
     "output_type": "execute_result"
    }
   ],
   "source": [
    "# sample random trainset and testset\n",
    "# test set is made of 25% of the ratings.\n",
    "trainset, testset = train_test_split(data, test_size=.20)\n",
    "#factorisation algo svd++\n",
    "algo=surprise.SVDpp()\n",
    "# Train the algorithm on the trainset\n",
    "algo.fit(trainset)\n",
    "#predict ratings for the testset\n",
    "predictions = algo.test(testset)\n",
    "# Then compute RMSE\n",
    "accuracy.rmse(predictions)"
   ]
  },
  {
   "cell_type": "code",
   "execution_count": 5,
   "metadata": {},
   "outputs": [],
   "source": [
    "###############DO RECOMMANDATIONS###############\n",
    "iids=dataset['iid'].unique()#list of items\n",
    "#list of items liked by each user\n",
    "newDF = pd.DataFrame()\n",
    "liste=dataset['uid'].unique()#list of users\n",
    "iidi=[]\n",
    "for i in range(0,len(liste)):\n",
    "   iidi=dataset.loc[dataset['uid']==liste[i], 'iid']\n",
    "   newDF = newDF.append(iidi, ignore_index = True)\n",
    "liste = pd.DataFrame(liste)#transform liste to dataframe\n",
    "liste=liste.rename(columns={0: 'user'},inplace=False)     \n",
    "frames = [newDF,liste]\n",
    "newDF = pd.concat(frames,axis=1)#dataframe of items liked by each user"
   ]
  },
  {
   "cell_type": "code",
   "execution_count": 6,
   "metadata": {},
   "outputs": [],
   "source": [
    "##items not scored by all users\n",
    "newDF1=newDF.drop(['user'],axis=1)\n",
    "newDF_to_pred= pd.DataFrame()\n",
    "for i in range(0,len(newDF1)):\n",
    "    iids_to_pred=np.setdiff1d(iids,newDF1.iloc[i])\n",
    "    iids_to_pred = pd.DataFrame(iids_to_pred)#transform iids_to_pred to dataframe\n",
    "    newDF_to_pred = newDF_to_pred.append(iids_to_pred, ignore_index = True)\n",
    "newDF_to_pred=newDF_to_pred.rename(columns={0: 'item'},inplace=False) #item non scored"
   ]
  },
  {
   "cell_type": "code",
   "execution_count": 7,
   "metadata": {},
   "outputs": [],
   "source": [
    "##assosiate for each row of newDF_to_pred the user\n",
    "z=dataset.groupby('uid').count().reset_index(drop=True).drop(\"rating\", axis=1)\n",
    "number_film_to_score=len(iids)-z['iid']\n",
    "frame = [liste,number_film_to_score]\n",
    "donnees = pd.concat(frame,axis=1)#dataframe for each user, the number of items to will be score\n",
    "donnees\n",
    "DATA = donnees.reindex(donnees.index.repeat(donnees.iid.apply(np.sum)))##repeat the number of ligne by using the iid column\n",
    "DATA = DATA.reset_index(drop=True).drop(\"iid\", axis=1)"
   ]
  },
  {
   "cell_type": "code",
   "execution_count": 8,
   "metadata": {},
   "outputs": [],
   "source": [
    "frame1 = [DATA,newDF_to_pred]\n",
    "item_to_predict = pd.concat(frame1,axis=1)####dataframe users and items to predict\n"
   ]
  },
  {
   "cell_type": "code",
   "execution_count": 9,
   "metadata": {},
   "outputs": [
    {
     "data": {
      "text/plain": [
       "Prediction(uid='x1', iid=4, r_ui=4.0, est=2.748169171625692, details={'was_impossible': False})"
      ]
     },
     "execution_count": 9,
     "metadata": {},
     "output_type": "execute_result"
    }
   ],
   "source": [
    "#predict scores pour all users\n",
    "for i in range(0,len(item_to_predict)-1):\n",
    "    testset=[[i, iid, 4.] for (i,iid) in zip(item_to_predict['user'],item_to_predict['item'])]\n",
    "predictions=algo.test(testset)### use alg svdpp\n",
    "predictions[0]##see the first prediction\n"
   ]
  },
  {
   "cell_type": "code",
   "execution_count": 10,
   "metadata": {},
   "outputs": [
    {
     "data": {
      "text/html": [
       "<div>\n",
       "<style scoped>\n",
       "    .dataframe tbody tr th:only-of-type {\n",
       "        vertical-align: middle;\n",
       "    }\n",
       "\n",
       "    .dataframe tbody tr th {\n",
       "        vertical-align: top;\n",
       "    }\n",
       "\n",
       "    .dataframe thead th {\n",
       "        text-align: right;\n",
       "    }\n",
       "</style>\n",
       "<table border=\"1\" class=\"dataframe\">\n",
       "  <thead>\n",
       "    <tr style=\"text-align: right;\">\n",
       "      <th></th>\n",
       "      <th>user</th>\n",
       "      <th>item</th>\n",
       "      <th>predict_score</th>\n",
       "    </tr>\n",
       "  </thead>\n",
       "  <tbody>\n",
       "    <tr>\n",
       "      <th>0</th>\n",
       "      <td>x1</td>\n",
       "      <td>4</td>\n",
       "      <td>2.748169</td>\n",
       "    </tr>\n",
       "    <tr>\n",
       "      <th>1</th>\n",
       "      <td>x1</td>\n",
       "      <td>6</td>\n",
       "      <td>2.768458</td>\n",
       "    </tr>\n",
       "    <tr>\n",
       "      <th>2</th>\n",
       "      <td>x2</td>\n",
       "      <td>1</td>\n",
       "      <td>2.578938</td>\n",
       "    </tr>\n",
       "    <tr>\n",
       "      <th>3</th>\n",
       "      <td>x2</td>\n",
       "      <td>2</td>\n",
       "      <td>2.686994</td>\n",
       "    </tr>\n",
       "    <tr>\n",
       "      <th>4</th>\n",
       "      <td>x2</td>\n",
       "      <td>3</td>\n",
       "      <td>2.611291</td>\n",
       "    </tr>\n",
       "    <tr>\n",
       "      <th>5</th>\n",
       "      <td>x2</td>\n",
       "      <td>5</td>\n",
       "      <td>2.937122</td>\n",
       "    </tr>\n",
       "    <tr>\n",
       "      <th>6</th>\n",
       "      <td>x2</td>\n",
       "      <td>6</td>\n",
       "      <td>2.386153</td>\n",
       "    </tr>\n",
       "    <tr>\n",
       "      <th>7</th>\n",
       "      <td>x3</td>\n",
       "      <td>1</td>\n",
       "      <td>2.496360</td>\n",
       "    </tr>\n",
       "    <tr>\n",
       "      <th>8</th>\n",
       "      <td>x3</td>\n",
       "      <td>2</td>\n",
       "      <td>2.796344</td>\n",
       "    </tr>\n",
       "    <tr>\n",
       "      <th>9</th>\n",
       "      <td>x3</td>\n",
       "      <td>3</td>\n",
       "      <td>2.617130</td>\n",
       "    </tr>\n",
       "    <tr>\n",
       "      <th>10</th>\n",
       "      <td>x3</td>\n",
       "      <td>4</td>\n",
       "      <td>2.728675</td>\n",
       "    </tr>\n",
       "    <tr>\n",
       "      <th>11</th>\n",
       "      <td>x4</td>\n",
       "      <td>2</td>\n",
       "      <td>2.799200</td>\n",
       "    </tr>\n",
       "    <tr>\n",
       "      <th>12</th>\n",
       "      <td>x4</td>\n",
       "      <td>3</td>\n",
       "      <td>2.562744</td>\n",
       "    </tr>\n",
       "    <tr>\n",
       "      <th>13</th>\n",
       "      <td>x4</td>\n",
       "      <td>4</td>\n",
       "      <td>2.684000</td>\n",
       "    </tr>\n",
       "    <tr>\n",
       "      <th>14</th>\n",
       "      <td>x4</td>\n",
       "      <td>5</td>\n",
       "      <td>2.815114</td>\n",
       "    </tr>\n",
       "    <tr>\n",
       "      <th>15</th>\n",
       "      <td>x4</td>\n",
       "      <td>6</td>\n",
       "      <td>2.447535</td>\n",
       "    </tr>\n",
       "    <tr>\n",
       "      <th>16</th>\n",
       "      <td>x5</td>\n",
       "      <td>1</td>\n",
       "      <td>2.313764</td>\n",
       "    </tr>\n",
       "    <tr>\n",
       "      <th>17</th>\n",
       "      <td>x5</td>\n",
       "      <td>2</td>\n",
       "      <td>2.707837</td>\n",
       "    </tr>\n",
       "    <tr>\n",
       "      <th>18</th>\n",
       "      <td>x5</td>\n",
       "      <td>4</td>\n",
       "      <td>2.359622</td>\n",
       "    </tr>\n",
       "    <tr>\n",
       "      <th>19</th>\n",
       "      <td>x5</td>\n",
       "      <td>5</td>\n",
       "      <td>2.494802</td>\n",
       "    </tr>\n",
       "    <tr>\n",
       "      <th>20</th>\n",
       "      <td>x5</td>\n",
       "      <td>6</td>\n",
       "      <td>2.295151</td>\n",
       "    </tr>\n",
       "  </tbody>\n",
       "</table>\n",
       "</div>"
      ],
      "text/plain": [
       "   user  item  predict_score\n",
       "0    x1     4       2.748169\n",
       "1    x1     6       2.768458\n",
       "2    x2     1       2.578938\n",
       "3    x2     2       2.686994\n",
       "4    x2     3       2.611291\n",
       "5    x2     5       2.937122\n",
       "6    x2     6       2.386153\n",
       "7    x3     1       2.496360\n",
       "8    x3     2       2.796344\n",
       "9    x3     3       2.617130\n",
       "10   x3     4       2.728675\n",
       "11   x4     2       2.799200\n",
       "12   x4     3       2.562744\n",
       "13   x4     4       2.684000\n",
       "14   x4     5       2.815114\n",
       "15   x4     6       2.447535\n",
       "16   x5     1       2.313764\n",
       "17   x5     2       2.707837\n",
       "18   x5     4       2.359622\n",
       "19   x5     5       2.494802\n",
       "20   x5     6       2.295151"
      ]
     },
     "execution_count": 10,
     "metadata": {},
     "output_type": "execute_result"
    }
   ],
   "source": [
    "#chaque prediction est un objet, on propose de convertir l'objet en tableau\n",
    "pred_ratings=np.array([pred.est for pred in predictions])##scores predicted for items\n",
    "frame2 = [item_to_predict,pd.DataFrame([pred_ratings]).T]\n",
    "Prediction = pd.concat(frame2,axis=1).rename(columns={0: 'predict_score'},inplace=False) \n",
    "Prediction ##result"
   ]
  },
  {
   "cell_type": "code",
   "execution_count": 11,
   "metadata": {},
   "outputs": [
    {
     "name": "stderr",
     "output_type": "stream",
     "text": [
      "C:\\Users\\Hortense\\Anaconda3\\lib\\site-packages\\ipykernel_launcher.py:2: DeprecationWarning: \n",
      ".ix is deprecated. Please use\n",
      ".loc for label based indexing or\n",
      ".iloc for positional indexing\n",
      "\n",
      "See the documentation here:\n",
      "http://pandas.pydata.org/pandas-docs/stable/indexing.html#ix-indexer-is-deprecated\n",
      "  \n"
     ]
    }
   ],
   "source": [
    "#find the index of the maximum predicted rating for each user\n",
    "Max_Prediction=Prediction.ix[Prediction.groupby(['user'], sort=False)['predict_score'].idxmax()][['user', 'item', 'predict_score']]\n",
    "#recommander pour chaque user, le meilleur item"
   ]
  },
  {
   "cell_type": "code",
   "execution_count": 12,
   "metadata": {},
   "outputs": [],
   "source": [
    "Prediction.to_csv('Score_Prediction.xls', sep = '\\t') \n",
    "Max_Prediction.to_csv('Max_Prediction.xls', sep = '\\t')  \n",
    "import shutil\n",
    "Output_Filtrage_Collaboratif = open(\"Output_Filtrage_Collaboratif.xls\", \"w\")\n",
    "list_fichier =['Score_Prediction.xls','Max_Prediction.xls']\n",
    "for i in list_fichier:\n",
    "          shutil.copyfileobj(open(i, 'r'), Output_Filtrage_Collaboratif)\n",
    "Output_Filtrage_Collaboratif.close()"
   ]
  },
  {
   "cell_type": "code",
   "execution_count": null,
   "metadata": {},
   "outputs": [],
   "source": []
  },
  {
   "cell_type": "code",
   "execution_count": null,
   "metadata": {},
   "outputs": [],
   "source": []
  }
 ],
 "metadata": {
  "kernelspec": {
   "display_name": "Python 3",
   "language": "python",
   "name": "python3"
  },
  "language_info": {
   "codemirror_mode": {
    "name": "ipython",
    "version": 3
   },
   "file_extension": ".py",
   "mimetype": "text/x-python",
   "name": "python",
   "nbconvert_exporter": "python",
   "pygments_lexer": "ipython3",
   "version": "3.6.5"
  }
 },
 "nbformat": 4,
 "nbformat_minor": 2
}
